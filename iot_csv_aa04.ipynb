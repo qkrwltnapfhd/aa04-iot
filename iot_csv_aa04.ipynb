{
  "nbformat": 4,
  "nbformat_minor": 0,
  "metadata": {
    "colab": {
      "name": "iot_csv_aa04",
      "version": "0.3.2",
      "provenance": [],
      "collapsed_sections": [],
      "include_colab_link": true
    },
    "kernelspec": {
      "display_name": "Python 3",
      "language": "python",
      "name": "python3"
    }
  },
  "cells": [
    {
      "cell_type": "markdown",
      "metadata": {
        "id": "view-in-github",
        "colab_type": "text"
      },
      "source": [
        "<a href=\"https://colab.research.google.com/github/qkrwltnapfhd/aa04-iot/blob/master/iot_csv_aa04.ipynb\" target=\"_parent\"><img src=\"https://colab.research.google.com/assets/colab-badge.svg\" alt=\"Open In Colab\"/></a>"
      ]
    },
    {
      "metadata": {
        "id": "4RyKlSBw1DjY",
        "colab_type": "text"
      },
      "cell_type": "markdown",
      "source": [
        "### Pandas: Loading the remote csv file\n",
        "\n",
        "> [Pandas: Tutorial-reas_csv()](https://www.marsja.se/pandas-read-csv-tutorial-to-csv/amp/)"
      ]
    },
    {
      "metadata": {
        "id": "y8KjEOPg1Dja",
        "colab_type": "code",
        "colab": {}
      },
      "cell_type": "code",
      "source": [
        "import pandas as pd"
      ],
      "execution_count": 0,
      "outputs": []
    },
    {
      "metadata": {
        "id": "0Mjp7Izv1DkK",
        "colab_type": "text"
      },
      "cell_type": "markdown",
      "source": [
        "### iot data\n",
        "> Sensor data from Arduino with CdS and DHT22\n",
        "\n",
        "- temperature\n",
        "- humidity\n",
        "- luminosity"
      ]
    },
    {
      "metadata": {
        "id": "JocMoJ3q1DkL",
        "colab_type": "code",
        "colab": {}
      },
      "cell_type": "code",
      "source": [
        "# url=\"http://chaos.inje.ac.kr:3030/data/iot_chaos.csv\"\n",
        "iot=pd.read_csv('AA04_s1000.csv', index_col='date')"
      ],
      "execution_count": 0,
      "outputs": []
    },
    {
      "metadata": {
        "id": "d-M3o1hI1DkQ",
        "colab_type": "code",
        "outputId": "a8ef4248-3cec-460d-8f90-181ddf2986f9",
        "colab": {
          "base_uri": "https://localhost:8080/",
          "height": 35
        }
      },
      "cell_type": "code",
      "source": [
        "iot.shape"
      ],
      "execution_count": 37,
      "outputs": [
        {
          "output_type": "execute_result",
          "data": {
            "text/plain": [
              "(1000, 3)"
            ]
          },
          "metadata": {
            "tags": []
          },
          "execution_count": 37
        }
      ]
    },
    {
      "metadata": {
        "id": "b5TKa9bX1DkV",
        "colab_type": "code",
        "outputId": "7d1a393c-42de-41c0-bd24-3b6c53b67504",
        "colab": {
          "base_uri": "https://localhost:8080/",
          "height": 235
        }
      },
      "cell_type": "code",
      "source": [
        "iot.head()"
      ],
      "execution_count": 38,
      "outputs": [
        {
          "output_type": "execute_result",
          "data": {
            "text/html": [
              "<div>\n",
              "<style scoped>\n",
              "    .dataframe tbody tr th:only-of-type {\n",
              "        vertical-align: middle;\n",
              "    }\n",
              "\n",
              "    .dataframe tbody tr th {\n",
              "        vertical-align: top;\n",
              "    }\n",
              "\n",
              "    .dataframe thead th {\n",
              "        text-align: right;\n",
              "    }\n",
              "</style>\n",
              "<table border=\"1\" class=\"dataframe\">\n",
              "  <thead>\n",
              "    <tr style=\"text-align: right;\">\n",
              "      <th></th>\n",
              "      <th>temperature</th>\n",
              "      <th>humidity</th>\n",
              "      <th>luminosity</th>\n",
              "    </tr>\n",
              "    <tr>\n",
              "      <th>date</th>\n",
              "      <th></th>\n",
              "      <th></th>\n",
              "      <th></th>\n",
              "    </tr>\n",
              "  </thead>\n",
              "  <tbody>\n",
              "    <tr>\n",
              "      <th>2018-11-27 19:19:48.503</th>\n",
              "      <td>20.7</td>\n",
              "      <td>28.3</td>\n",
              "      <td>125</td>\n",
              "    </tr>\n",
              "    <tr>\n",
              "      <th>2018-11-27 19:19:46.226</th>\n",
              "      <td>20.7</td>\n",
              "      <td>28.3</td>\n",
              "      <td>125</td>\n",
              "    </tr>\n",
              "    <tr>\n",
              "      <th>2018-11-27 19:19:43.948</th>\n",
              "      <td>20.7</td>\n",
              "      <td>28.3</td>\n",
              "      <td>126</td>\n",
              "    </tr>\n",
              "    <tr>\n",
              "      <th>2018-11-27 19:19:41.667</th>\n",
              "      <td>20.7</td>\n",
              "      <td>28.3</td>\n",
              "      <td>125</td>\n",
              "    </tr>\n",
              "    <tr>\n",
              "      <th>2018-11-27 19:19:39.389</th>\n",
              "      <td>20.7</td>\n",
              "      <td>28.3</td>\n",
              "      <td>126</td>\n",
              "    </tr>\n",
              "  </tbody>\n",
              "</table>\n",
              "</div>"
            ],
            "text/plain": [
              "                         temperature  humidity  luminosity\n",
              "date                                                      \n",
              "2018-11-27 19:19:48.503         20.7      28.3         125\n",
              "2018-11-27 19:19:46.226         20.7      28.3         125\n",
              "2018-11-27 19:19:43.948         20.7      28.3         126\n",
              "2018-11-27 19:19:41.667         20.7      28.3         125\n",
              "2018-11-27 19:19:39.389         20.7      28.3         126"
            ]
          },
          "metadata": {
            "tags": []
          },
          "execution_count": 38
        }
      ]
    },
    {
      "metadata": {
        "id": "CjyUNVTQ1Dkb",
        "colab_type": "code",
        "outputId": "0c66f035-2db2-4785-8344-fd47297eab54",
        "colab": {
          "base_uri": "https://localhost:8080/",
          "height": 235
        }
      },
      "cell_type": "code",
      "source": [
        "iot.tail()"
      ],
      "execution_count": 39,
      "outputs": [
        {
          "output_type": "execute_result",
          "data": {
            "text/html": [
              "<div>\n",
              "<style scoped>\n",
              "    .dataframe tbody tr th:only-of-type {\n",
              "        vertical-align: middle;\n",
              "    }\n",
              "\n",
              "    .dataframe tbody tr th {\n",
              "        vertical-align: top;\n",
              "    }\n",
              "\n",
              "    .dataframe thead th {\n",
              "        text-align: right;\n",
              "    }\n",
              "</style>\n",
              "<table border=\"1\" class=\"dataframe\">\n",
              "  <thead>\n",
              "    <tr style=\"text-align: right;\">\n",
              "      <th></th>\n",
              "      <th>temperature</th>\n",
              "      <th>humidity</th>\n",
              "      <th>luminosity</th>\n",
              "    </tr>\n",
              "    <tr>\n",
              "      <th>date</th>\n",
              "      <th></th>\n",
              "      <th></th>\n",
              "      <th></th>\n",
              "    </tr>\n",
              "  </thead>\n",
              "  <tbody>\n",
              "    <tr>\n",
              "      <th>2018-11-27 18:42:04.907</th>\n",
              "      <td>20.7</td>\n",
              "      <td>29.1</td>\n",
              "      <td>114</td>\n",
              "    </tr>\n",
              "    <tr>\n",
              "      <th>2018-11-27 18:42:02.630</th>\n",
              "      <td>20.7</td>\n",
              "      <td>29.1</td>\n",
              "      <td>120</td>\n",
              "    </tr>\n",
              "    <tr>\n",
              "      <th>2018-11-27 18:42:00.353</th>\n",
              "      <td>20.7</td>\n",
              "      <td>29.1</td>\n",
              "      <td>121</td>\n",
              "    </tr>\n",
              "    <tr>\n",
              "      <th>2018-11-27 18:41:58.072</th>\n",
              "      <td>20.7</td>\n",
              "      <td>29.1</td>\n",
              "      <td>122</td>\n",
              "    </tr>\n",
              "    <tr>\n",
              "      <th>2018-11-27 18:41:55.794</th>\n",
              "      <td>20.8</td>\n",
              "      <td>29.1</td>\n",
              "      <td>119</td>\n",
              "    </tr>\n",
              "  </tbody>\n",
              "</table>\n",
              "</div>"
            ],
            "text/plain": [
              "                         temperature  humidity  luminosity\n",
              "date                                                      \n",
              "2018-11-27 18:42:04.907         20.7      29.1         114\n",
              "2018-11-27 18:42:02.630         20.7      29.1         120\n",
              "2018-11-27 18:42:00.353         20.7      29.1         121\n",
              "2018-11-27 18:41:58.072         20.7      29.1         122\n",
              "2018-11-27 18:41:55.794         20.8      29.1         119"
            ]
          },
          "metadata": {
            "tags": []
          },
          "execution_count": 39
        }
      ]
    },
    {
      "metadata": {
        "id": "o66Mb3tp1Dki",
        "colab_type": "code",
        "outputId": "efd05357-e029-4347-eacd-cd73ad9bd1ae",
        "colab": {
          "base_uri": "https://localhost:8080/",
          "height": 161
        }
      },
      "cell_type": "code",
      "source": [
        "iot.info()"
      ],
      "execution_count": 40,
      "outputs": [
        {
          "output_type": "stream",
          "text": [
            "<class 'pandas.core.frame.DataFrame'>\n",
            "Index: 1000 entries, 2018-11-27 19:19:48.503 to 2018-11-27 18:41:55.794\n",
            "Data columns (total 3 columns):\n",
            "temperature    1000 non-null float64\n",
            "humidity       1000 non-null float64\n",
            "luminosity     1000 non-null int64\n",
            "dtypes: float64(2), int64(1)\n",
            "memory usage: 31.2+ KB\n"
          ],
          "name": "stdout"
        }
      ]
    },
    {
      "metadata": {
        "id": "DrIb6pwx1Dkn",
        "colab_type": "text"
      },
      "cell_type": "markdown",
      "source": [
        "### Sort index by date"
      ]
    },
    {
      "metadata": {
        "id": "v3ujbMYb1Dkp",
        "colab_type": "code",
        "colab": {}
      },
      "cell_type": "code",
      "source": [
        "iot_s = iot.sort_index()"
      ],
      "execution_count": 0,
      "outputs": []
    },
    {
      "metadata": {
        "id": "OoKNtme61Dkt",
        "colab_type": "code",
        "outputId": "0c9aa23a-124e-41f4-951d-c42c185dd1e4",
        "colab": {
          "base_uri": "https://localhost:8080/",
          "height": 235
        }
      },
      "cell_type": "code",
      "source": [
        "iot_s.head()"
      ],
      "execution_count": 42,
      "outputs": [
        {
          "output_type": "execute_result",
          "data": {
            "text/html": [
              "<div>\n",
              "<style scoped>\n",
              "    .dataframe tbody tr th:only-of-type {\n",
              "        vertical-align: middle;\n",
              "    }\n",
              "\n",
              "    .dataframe tbody tr th {\n",
              "        vertical-align: top;\n",
              "    }\n",
              "\n",
              "    .dataframe thead th {\n",
              "        text-align: right;\n",
              "    }\n",
              "</style>\n",
              "<table border=\"1\" class=\"dataframe\">\n",
              "  <thead>\n",
              "    <tr style=\"text-align: right;\">\n",
              "      <th></th>\n",
              "      <th>temperature</th>\n",
              "      <th>humidity</th>\n",
              "      <th>luminosity</th>\n",
              "    </tr>\n",
              "    <tr>\n",
              "      <th>date</th>\n",
              "      <th></th>\n",
              "      <th></th>\n",
              "      <th></th>\n",
              "    </tr>\n",
              "  </thead>\n",
              "  <tbody>\n",
              "    <tr>\n",
              "      <th>2018-11-27 18:41:55.794</th>\n",
              "      <td>20.8</td>\n",
              "      <td>29.1</td>\n",
              "      <td>119</td>\n",
              "    </tr>\n",
              "    <tr>\n",
              "      <th>2018-11-27 18:41:58.072</th>\n",
              "      <td>20.7</td>\n",
              "      <td>29.1</td>\n",
              "      <td>122</td>\n",
              "    </tr>\n",
              "    <tr>\n",
              "      <th>2018-11-27 18:42:00.353</th>\n",
              "      <td>20.7</td>\n",
              "      <td>29.1</td>\n",
              "      <td>121</td>\n",
              "    </tr>\n",
              "    <tr>\n",
              "      <th>2018-11-27 18:42:02.630</th>\n",
              "      <td>20.7</td>\n",
              "      <td>29.1</td>\n",
              "      <td>120</td>\n",
              "    </tr>\n",
              "    <tr>\n",
              "      <th>2018-11-27 18:42:04.907</th>\n",
              "      <td>20.7</td>\n",
              "      <td>29.1</td>\n",
              "      <td>114</td>\n",
              "    </tr>\n",
              "  </tbody>\n",
              "</table>\n",
              "</div>"
            ],
            "text/plain": [
              "                         temperature  humidity  luminosity\n",
              "date                                                      \n",
              "2018-11-27 18:41:55.794         20.8      29.1         119\n",
              "2018-11-27 18:41:58.072         20.7      29.1         122\n",
              "2018-11-27 18:42:00.353         20.7      29.1         121\n",
              "2018-11-27 18:42:02.630         20.7      29.1         120\n",
              "2018-11-27 18:42:04.907         20.7      29.1         114"
            ]
          },
          "metadata": {
            "tags": []
          },
          "execution_count": 42
        }
      ]
    },
    {
      "metadata": {
        "id": "ShvtLDxd1Dk0",
        "colab_type": "code",
        "outputId": "13ebb9dc-fa83-4d61-b8f9-f6d30200fc62",
        "colab": {
          "base_uri": "https://localhost:8080/",
          "height": 396
        }
      },
      "cell_type": "code",
      "source": [
        "iot_s.plot(figsize=(12,6))"
      ],
      "execution_count": 43,
      "outputs": [
        {
          "output_type": "execute_result",
          "data": {
            "text/plain": [
              "<matplotlib.axes._subplots.AxesSubplot at 0x7f78fc43fe10>"
            ]
          },
          "metadata": {
            "tags": []
          },
          "execution_count": 43
        },
        {
          "output_type": "display_data",
          "data": {
            "image/png": "[encoded data removed]",
            "text/plain": [
              "<matplotlib.figure.Figure at 0x7f78fc48aba8>"
            ]
          },
          "metadata": {
            "tags": []
          }
        }
      ]
    },
    {
      "metadata": {
        "id": "TYGSDEGP1DlE",
        "colab_type": "text"
      },
      "cell_type": "markdown",
      "source": [
        "## Plot the change of sensor data over various time spans.\n",
        "\n",
        "- resample the data at different frequency\n",
        "- time span: 60 sec, 1 hour, 1 day, 1 week"
      ]
    },
    {
      "metadata": {
        "id": "dPgcIFOP1DlF",
        "colab_type": "code",
        "outputId": "be794388-e812-4481-a46f-fe53dc272d1a",
        "colab": {
          "base_uri": "https://localhost:8080/",
          "height": 161
        }
      },
      "cell_type": "code",
      "source": [
        "iot_s.info()"
      ],
      "execution_count": 44,
      "outputs": [
        {
          "output_type": "stream",
          "text": [
            "<class 'pandas.core.frame.DataFrame'>\n",
            "Index: 1000 entries, 2018-11-27 18:41:55.794 to 2018-11-27 19:19:48.503\n",
            "Data columns (total 3 columns):\n",
            "temperature    1000 non-null float64\n",
            "humidity       1000 non-null float64\n",
            "luminosity     1000 non-null int64\n",
            "dtypes: float64(2), int64(1)\n",
            "memory usage: 31.2+ KB\n"
          ],
          "name": "stdout"
        }
      ]
    },
    {
      "metadata": {
        "id": "zr1RA5Ix1DlJ",
        "colab_type": "code",
        "outputId": "4c12452d-e7c2-4fb9-9095-8b97841afc6c",
        "colab": {
          "base_uri": "https://localhost:8080/",
          "height": 35
        }
      },
      "cell_type": "code",
      "source": [
        "# type of index\n",
        "iot_s.index[0], type(iot_s.index[0])"
      ],
      "execution_count": 45,
      "outputs": [
        {
          "output_type": "execute_result",
          "data": {
            "text/plain": [
              "('2018-11-27 18:41:55.794', str)"
            ]
          },
          "metadata": {
            "tags": []
          },
          "execution_count": 45
        }
      ]
    },
    {
      "metadata": {
        "id": "2Tsb1Z9x1DlN",
        "colab_type": "code",
        "colab": {}
      },
      "cell_type": "code",
      "source": [
        "# Convert index to timestamp\n",
        "iot_s.index = pd.to_datetime(iot_s.index)"
      ],
      "execution_count": 0,
      "outputs": []
    },
    {
      "metadata": {
        "id": "9mAeysp31DlU",
        "colab_type": "code",
        "outputId": "43693555-3df5-4f10-c3c7-413bf7b6201c",
        "colab": {
          "base_uri": "https://localhost:8080/",
          "height": 161
        }
      },
      "cell_type": "code",
      "source": [
        "iot_s.info()"
      ],
      "execution_count": 47,
      "outputs": [
        {
          "output_type": "stream",
          "text": [
            "<class 'pandas.core.frame.DataFrame'>\n",
            "DatetimeIndex: 1000 entries, 2018-11-27 18:41:55.794000 to 2018-11-27 19:19:48.503000\n",
            "Data columns (total 3 columns):\n",
            "temperature    1000 non-null float64\n",
            "humidity       1000 non-null float64\n",
            "luminosity     1000 non-null int64\n",
            "dtypes: float64(2), int64(1)\n",
            "memory usage: 31.2 KB\n"
          ],
          "name": "stdout"
        }
      ]
    },
    {
      "metadata": {
        "id": "p0dZyoMy1DlY",
        "colab_type": "code",
        "outputId": "c7b3b2c1-9d9f-4363-cb17-422aa9fc5a01",
        "colab": {
          "base_uri": "https://localhost:8080/",
          "height": 1289
        }
      },
      "cell_type": "code",
      "source": [
        "iot_s.resample('60S').mean() "
      ],
      "execution_count": 51,
      "outputs": [
        {
          "output_type": "execute_result",
          "data": {
            "text/html": [
              "<div>\n",
              "<style scoped>\n",
              "    .dataframe tbody tr th:only-of-type {\n",
              "        vertical-align: middle;\n",
              "    }\n",
              "\n",
              "    .dataframe tbody tr th {\n",
              "        vertical-align: top;\n",
              "    }\n",
              "\n",
              "    .dataframe thead th {\n",
              "        text-align: right;\n",
              "    }\n",
              "</style>\n",
              "<table border=\"1\" class=\"dataframe\">\n",
              "  <thead>\n",
              "    <tr style=\"text-align: right;\">\n",
              "      <th></th>\n",
              "      <th>temperature</th>\n",
              "      <th>humidity</th>\n",
              "      <th>luminosity</th>\n",
              "    </tr>\n",
              "    <tr>\n",
              "      <th>date</th>\n",
              "      <th></th>\n",
              "      <th></th>\n",
              "      <th></th>\n",
              "    </tr>\n",
              "  </thead>\n",
              "  <tbody>\n",
              "    <tr>\n",
              "      <th>2018-11-27 18:41:00</th>\n",
              "      <td>20.750000</td>\n",
              "      <td>29.100000</td>\n",
              "      <td>120.500000</td>\n",
              "    </tr>\n",
              "    <tr>\n",
              "      <th>2018-11-27 18:42:00</th>\n",
              "      <td>20.744444</td>\n",
              "      <td>28.959259</td>\n",
              "      <td>120.629630</td>\n",
              "    </tr>\n",
              "    <tr>\n",
              "      <th>2018-11-27 18:43:00</th>\n",
              "      <td>20.792857</td>\n",
              "      <td>28.617857</td>\n",
              "      <td>121.285714</td>\n",
              "    </tr>\n",
              "    <tr>\n",
              "      <th>2018-11-27 18:44:00</th>\n",
              "      <td>20.757692</td>\n",
              "      <td>29.092308</td>\n",
              "      <td>121.692308</td>\n",
              "    </tr>\n",
              "    <tr>\n",
              "      <th>2018-11-27 18:45:00</th>\n",
              "      <td>20.796154</td>\n",
              "      <td>28.600000</td>\n",
              "      <td>122.153846</td>\n",
              "    </tr>\n",
              "    <tr>\n",
              "      <th>2018-11-27 18:46:00</th>\n",
              "      <td>20.800000</td>\n",
              "      <td>28.285185</td>\n",
              "      <td>122.000000</td>\n",
              "    </tr>\n",
              "    <tr>\n",
              "      <th>2018-11-27 18:47:00</th>\n",
              "      <td>20.800000</td>\n",
              "      <td>28.296154</td>\n",
              "      <td>121.576923</td>\n",
              "    </tr>\n",
              "    <tr>\n",
              "      <th>2018-11-27 18:48:00</th>\n",
              "      <td>20.800000</td>\n",
              "      <td>28.646154</td>\n",
              "      <td>121.730769</td>\n",
              "    </tr>\n",
              "    <tr>\n",
              "      <th>2018-11-27 18:49:00</th>\n",
              "      <td>20.800000</td>\n",
              "      <td>28.429630</td>\n",
              "      <td>118.185185</td>\n",
              "    </tr>\n",
              "    <tr>\n",
              "      <th>2018-11-27 18:50:00</th>\n",
              "      <td>20.788462</td>\n",
              "      <td>28.580769</td>\n",
              "      <td>121.038462</td>\n",
              "    </tr>\n",
              "    <tr>\n",
              "      <th>2018-11-27 18:51:00</th>\n",
              "      <td>20.726923</td>\n",
              "      <td>28.761538</td>\n",
              "      <td>120.692308</td>\n",
              "    </tr>\n",
              "    <tr>\n",
              "      <th>2018-11-27 18:52:00</th>\n",
              "      <td>20.700000</td>\n",
              "      <td>28.681481</td>\n",
              "      <td>121.962963</td>\n",
              "    </tr>\n",
              "    <tr>\n",
              "      <th>2018-11-27 18:53:00</th>\n",
              "      <td>20.753846</td>\n",
              "      <td>29.107692</td>\n",
              "      <td>121.846154</td>\n",
              "    </tr>\n",
              "    <tr>\n",
              "      <th>2018-11-27 18:54:00</th>\n",
              "      <td>20.769231</td>\n",
              "      <td>28.946154</td>\n",
              "      <td>120.923077</td>\n",
              "    </tr>\n",
              "    <tr>\n",
              "      <th>2018-11-27 18:55:00</th>\n",
              "      <td>20.751852</td>\n",
              "      <td>29.151852</td>\n",
              "      <td>120.370370</td>\n",
              "    </tr>\n",
              "    <tr>\n",
              "      <th>2018-11-27 18:56:00</th>\n",
              "      <td>20.800000</td>\n",
              "      <td>29.296154</td>\n",
              "      <td>121.730769</td>\n",
              "    </tr>\n",
              "    <tr>\n",
              "      <th>2018-11-27 18:57:00</th>\n",
              "      <td>20.846154</td>\n",
              "      <td>28.665385</td>\n",
              "      <td>114.423077</td>\n",
              "    </tr>\n",
              "    <tr>\n",
              "      <th>2018-11-27 18:58:00</th>\n",
              "      <td>20.888889</td>\n",
              "      <td>28.614815</td>\n",
              "      <td>114.851852</td>\n",
              "    </tr>\n",
              "    <tr>\n",
              "      <th>2018-11-27 18:59:00</th>\n",
              "      <td>20.861538</td>\n",
              "      <td>29.369231</td>\n",
              "      <td>118.923077</td>\n",
              "    </tr>\n",
              "    <tr>\n",
              "      <th>2018-11-27 19:00:00</th>\n",
              "      <td>20.800000</td>\n",
              "      <td>28.930769</td>\n",
              "      <td>120.730769</td>\n",
              "    </tr>\n",
              "    <tr>\n",
              "      <th>2018-11-27 19:01:00</th>\n",
              "      <td>20.814815</td>\n",
              "      <td>29.059259</td>\n",
              "      <td>118.851852</td>\n",
              "    </tr>\n",
              "    <tr>\n",
              "      <th>2018-11-27 19:02:00</th>\n",
              "      <td>20.815385</td>\n",
              "      <td>29.161538</td>\n",
              "      <td>118.692308</td>\n",
              "    </tr>\n",
              "    <tr>\n",
              "      <th>2018-11-27 19:03:00</th>\n",
              "      <td>20.873077</td>\n",
              "      <td>29.838462</td>\n",
              "      <td>113.115385</td>\n",
              "    </tr>\n",
              "    <tr>\n",
              "      <th>2018-11-27 19:04:00</th>\n",
              "      <td>20.885185</td>\n",
              "      <td>28.625926</td>\n",
              "      <td>115.518519</td>\n",
              "    </tr>\n",
              "    <tr>\n",
              "      <th>2018-11-27 19:05:00</th>\n",
              "      <td>20.803846</td>\n",
              "      <td>28.888462</td>\n",
              "      <td>121.307692</td>\n",
              "    </tr>\n",
              "    <tr>\n",
              "      <th>2018-11-27 19:06:00</th>\n",
              "      <td>20.761538</td>\n",
              "      <td>28.846154</td>\n",
              "      <td>119.500000</td>\n",
              "    </tr>\n",
              "    <tr>\n",
              "      <th>2018-11-27 19:07:00</th>\n",
              "      <td>20.707407</td>\n",
              "      <td>28.807407</td>\n",
              "      <td>118.666667</td>\n",
              "    </tr>\n",
              "    <tr>\n",
              "      <th>2018-11-27 19:08:00</th>\n",
              "      <td>20.700000</td>\n",
              "      <td>29.200000</td>\n",
              "      <td>120.692308</td>\n",
              "    </tr>\n",
              "    <tr>\n",
              "      <th>2018-11-27 19:09:00</th>\n",
              "      <td>20.700000</td>\n",
              "      <td>29.188462</td>\n",
              "      <td>122.076923</td>\n",
              "    </tr>\n",
              "    <tr>\n",
              "      <th>2018-11-27 19:10:00</th>\n",
              "      <td>20.700000</td>\n",
              "      <td>29.262963</td>\n",
              "      <td>122.407407</td>\n",
              "    </tr>\n",
              "    <tr>\n",
              "      <th>2018-11-27 19:11:00</th>\n",
              "      <td>20.700000</td>\n",
              "      <td>28.834615</td>\n",
              "      <td>121.230769</td>\n",
              "    </tr>\n",
              "    <tr>\n",
              "      <th>2018-11-27 19:12:00</th>\n",
              "      <td>20.700000</td>\n",
              "      <td>28.623077</td>\n",
              "      <td>121.769231</td>\n",
              "    </tr>\n",
              "    <tr>\n",
              "      <th>2018-11-27 19:13:00</th>\n",
              "      <td>20.685185</td>\n",
              "      <td>28.833333</td>\n",
              "      <td>121.444444</td>\n",
              "    </tr>\n",
              "    <tr>\n",
              "      <th>2018-11-27 19:14:00</th>\n",
              "      <td>20.661538</td>\n",
              "      <td>29.269231</td>\n",
              "      <td>125.384615</td>\n",
              "    </tr>\n",
              "    <tr>\n",
              "      <th>2018-11-27 19:15:00</th>\n",
              "      <td>20.665385</td>\n",
              "      <td>29.303846</td>\n",
              "      <td>124.653846</td>\n",
              "    </tr>\n",
              "    <tr>\n",
              "      <th>2018-11-27 19:16:00</th>\n",
              "      <td>20.692593</td>\n",
              "      <td>28.948148</td>\n",
              "      <td>124.000000</td>\n",
              "    </tr>\n",
              "    <tr>\n",
              "      <th>2018-11-27 19:17:00</th>\n",
              "      <td>20.692308</td>\n",
              "      <td>28.592308</td>\n",
              "      <td>124.384615</td>\n",
              "    </tr>\n",
              "    <tr>\n",
              "      <th>2018-11-27 19:18:00</th>\n",
              "      <td>20.692308</td>\n",
              "      <td>28.592308</td>\n",
              "      <td>120.730769</td>\n",
              "    </tr>\n",
              "    <tr>\n",
              "      <th>2018-11-27 19:19:00</th>\n",
              "      <td>20.700000</td>\n",
              "      <td>28.413636</td>\n",
              "      <td>123.136364</td>\n",
              "    </tr>\n",
              "  </tbody>\n",
              "</table>\n",
              "</div>"
            ],
            "text/plain": [
              "                     temperature   humidity  luminosity\n",
              "date                                                   \n",
              "2018-11-27 18:41:00    20.750000  29.100000  120.500000\n",
              "2018-11-27 18:42:00    20.744444  28.959259  120.629630\n",
              "2018-11-27 18:43:00    20.792857  28.617857  121.285714\n",
              "2018-11-27 18:44:00    20.757692  29.092308  121.692308\n",
              "2018-11-27 18:45:00    20.796154  28.600000  122.153846\n",
              "2018-11-27 18:46:00    20.800000  28.285185  122.000000\n",
              "2018-11-27 18:47:00    20.800000  28.296154  121.576923\n",
              "2018-11-27 18:48:00    20.800000  28.646154  121.730769\n",
              "2018-11-27 18:49:00    20.800000  28.429630  118.185185\n",
              "2018-11-27 18:50:00    20.788462  28.580769  121.038462\n",
              "2018-11-27 18:51:00    20.726923  28.761538  120.692308\n",
              "2018-11-27 18:52:00    20.700000  28.681481  121.962963\n",
              "2018-11-27 18:53:00    20.753846  29.107692  121.846154\n",
              "2018-11-27 18:54:00    20.769231  28.946154  120.923077\n",
              "2018-11-27 18:55:00    20.751852  29.151852  120.370370\n",
              "2018-11-27 18:56:00    20.800000  29.296154  121.730769\n",
              "2018-11-27 18:57:00    20.846154  28.665385  114.423077\n",
              "2018-11-27 18:58:00    20.888889  28.614815  114.851852\n",
              "2018-11-27 18:59:00    20.861538  29.369231  118.923077\n",
              "2018-11-27 19:00:00    20.800000  28.930769  120.730769\n",
              "2018-11-27 19:01:00    20.814815  29.059259  118.851852\n",
              "2018-11-27 19:02:00    20.815385  29.161538  118.692308\n",
              "2018-11-27 19:03:00    20.873077  29.838462  113.115385\n",
              "2018-11-27 19:04:00    20.885185  28.625926  115.518519\n",
              "2018-11-27 19:05:00    20.803846  28.888462  121.307692\n",
              "2018-11-27 19:06:00    20.761538  28.846154  119.500000\n",
              "2018-11-27 19:07:00    20.707407  28.807407  118.666667\n",
              "2018-11-27 19:08:00    20.700000  29.200000  120.692308\n",
              "2018-11-27 19:09:00    20.700000  29.188462  122.076923\n",
              "2018-11-27 19:10:00    20.700000  29.262963  122.407407\n",
              "2018-11-27 19:11:00    20.700000  28.834615  121.230769\n",
              "2018-11-27 19:12:00    20.700000  28.623077  121.769231\n",
              "2018-11-27 19:13:00    20.685185  28.833333  121.444444\n",
              "2018-11-27 19:14:00    20.661538  29.269231  125.384615\n",
              "2018-11-27 19:15:00    20.665385  29.303846  124.653846\n",
              "2018-11-27 19:16:00    20.692593  28.948148  124.000000\n",
              "2018-11-27 19:17:00    20.692308  28.592308  124.384615\n",
              "2018-11-27 19:18:00    20.692308  28.592308  120.730769\n",
              "2018-11-27 19:19:00    20.700000  28.413636  123.136364"
            ]
          },
          "metadata": {
            "tags": []
          },
          "execution_count": 51
        }
      ]
    },
    {
      "metadata": {
        "id": "i3BiiT-L1Dle",
        "colab_type": "code",
        "outputId": "d0d34a11-d263-4b86-b71b-b97c74b63835",
        "colab": {
          "base_uri": "https://localhost:8080/",
          "height": 421
        }
      },
      "cell_type": "code",
      "source": [
        "iot_s.resample('60S').mean().plot(figsize=(12,6), title='Every minute change of temp, humi, and lumi', \n",
        "                                ylim=[0,150])"
      ],
      "execution_count": 60,
      "outputs": [
        {
          "output_type": "execute_result",
          "data": {
            "text/plain": [
              "<matplotlib.axes._subplots.AxesSubplot at 0x7f78fc02e390>"
            ]
          },
          "metadata": {
            "tags": []
          },
          "execution_count": 60
        },
        {
          "output_type": "display_data",
          "data": {
            "image/png": "[encoded data removed]",
            "text/plain": [
              "<matplotlib.figure.Figure at 0x7f78fc05a1d0>"
            ]
          },
          "metadata": {
            "tags": []
          }
        }
      ]
    },
    {
      "metadata": {
        "id": "1Na-aiX31Dli",
        "colab_type": "code",
        "outputId": "60e15efd-b1cd-41ee-f4d1-51df5086d18c",
        "colab": {
          "base_uri": "https://localhost:8080/",
          "height": 421
        }
      },
      "cell_type": "code",
      "source": [
        "iot_s.resample('60S').mean().plot(kind='line', marker='o', ms=10, figsize=(12,6), title='Every minute change of temperature, humidity, and luminosity')"
      ],
      "execution_count": 61,
      "outputs": [
        {
          "output_type": "execute_result",
          "data": {
            "text/plain": [
              "<matplotlib.axes._subplots.AxesSubplot at 0x7f78fbfe3208>"
            ]
          },
          "metadata": {
            "tags": []
          },
          "execution_count": 61
        },
        {
          "output_type": "display_data",
          "data": {
            "image/png": "[encoded data removed]",
            "text/plain": [
              "<matplotlib.figure.Figure at 0x7f78fbfa8588>"
            ]
          },
          "metadata": {
            "tags": []
          }
        }
      ]
    },
    {
      "metadata": {
        "id": "zNs608SE3PxR",
        "colab_type": "text"
      },
      "cell_type": "markdown",
      "source": [
        "\n",
        "\n",
        "---\n",
        "\n"
      ]
    },
    {
      "metadata": {
        "id": "bSJOj1mh1Dl0",
        "colab_type": "code",
        "colab": {
          "base_uri": "https://localhost:8080/",
          "height": 328
        },
        "outputId": "cb6142fb-b29f-42e0-d314-92ca7461bca4"
      },
      "cell_type": "code",
      "source": [
        "iot_s.resample('300S').mean() "
      ],
      "execution_count": 53,
      "outputs": [
        {
          "output_type": "execute_result",
          "data": {
            "text/html": [
              "<div>\n",
              "<style scoped>\n",
              "    .dataframe tbody tr th:only-of-type {\n",
              "        vertical-align: middle;\n",
              "    }\n",
              "\n",
              "    .dataframe tbody tr th {\n",
              "        vertical-align: top;\n",
              "    }\n",
              "\n",
              "    .dataframe thead th {\n",
              "        text-align: right;\n",
              "    }\n",
              "</style>\n",
              "<table border=\"1\" class=\"dataframe\">\n",
              "  <thead>\n",
              "    <tr style=\"text-align: right;\">\n",
              "      <th></th>\n",
              "      <th>temperature</th>\n",
              "      <th>humidity</th>\n",
              "      <th>luminosity</th>\n",
              "    </tr>\n",
              "    <tr>\n",
              "      <th>date</th>\n",
              "      <th></th>\n",
              "      <th></th>\n",
              "      <th></th>\n",
              "    </tr>\n",
              "  </thead>\n",
              "  <tbody>\n",
              "    <tr>\n",
              "      <th>2018-11-27 18:40:00</th>\n",
              "      <td>20.765060</td>\n",
              "      <td>28.889157</td>\n",
              "      <td>121.180723</td>\n",
              "    </tr>\n",
              "    <tr>\n",
              "      <th>2018-11-27 18:45:00</th>\n",
              "      <td>20.799242</td>\n",
              "      <td>28.450000</td>\n",
              "      <td>121.113636</td>\n",
              "    </tr>\n",
              "    <tr>\n",
              "      <th>2018-11-27 18:50:00</th>\n",
              "      <td>20.747328</td>\n",
              "      <td>28.814504</td>\n",
              "      <td>121.297710</td>\n",
              "    </tr>\n",
              "    <tr>\n",
              "      <th>2018-11-27 18:55:00</th>\n",
              "      <td>20.829545</td>\n",
              "      <td>29.017424</td>\n",
              "      <td>118.053030</td>\n",
              "    </tr>\n",
              "    <tr>\n",
              "      <th>2018-11-27 19:00:00</th>\n",
              "      <td>20.837879</td>\n",
              "      <td>29.118939</td>\n",
              "      <td>117.378788</td>\n",
              "    </tr>\n",
              "    <tr>\n",
              "      <th>2018-11-27 19:05:00</th>\n",
              "      <td>20.734351</td>\n",
              "      <td>28.984733</td>\n",
              "      <td>120.435115</td>\n",
              "    </tr>\n",
              "    <tr>\n",
              "      <th>2018-11-27 19:10:00</th>\n",
              "      <td>20.689394</td>\n",
              "      <td>28.965909</td>\n",
              "      <td>122.439394</td>\n",
              "    </tr>\n",
              "    <tr>\n",
              "      <th>2018-11-27 19:15:00</th>\n",
              "      <td>20.688189</td>\n",
              "      <td>28.782677</td>\n",
              "      <td>123.393701</td>\n",
              "    </tr>\n",
              "  </tbody>\n",
              "</table>\n",
              "</div>"
            ],
            "text/plain": [
              "                     temperature   humidity  luminosity\n",
              "date                                                   \n",
              "2018-11-27 18:40:00    20.765060  28.889157  121.180723\n",
              "2018-11-27 18:45:00    20.799242  28.450000  121.113636\n",
              "2018-11-27 18:50:00    20.747328  28.814504  121.297710\n",
              "2018-11-27 18:55:00    20.829545  29.017424  118.053030\n",
              "2018-11-27 19:00:00    20.837879  29.118939  117.378788\n",
              "2018-11-27 19:05:00    20.734351  28.984733  120.435115\n",
              "2018-11-27 19:10:00    20.689394  28.965909  122.439394\n",
              "2018-11-27 19:15:00    20.688189  28.782677  123.393701"
            ]
          },
          "metadata": {
            "tags": []
          },
          "execution_count": 53
        }
      ]
    },
    {
      "metadata": {
        "id": "RzGtC2f5CehI",
        "colab_type": "code",
        "colab": {
          "base_uri": "https://localhost:8080/",
          "height": 421
        },
        "outputId": "3e24fc6a-ba5f-43ac-88c2-c6399427c488"
      },
      "cell_type": "code",
      "source": [
        "iot_s.resample('300S').mean().plot(figsize=(12,6), title='Every 5 minutes change of temp, humi, and lumi', \n",
        "                                ylim=[0,150])"
      ],
      "execution_count": 62,
      "outputs": [
        {
          "output_type": "execute_result",
          "data": {
            "text/plain": [
              "<matplotlib.axes._subplots.AxesSubplot at 0x7f78fbf6eb70>"
            ]
          },
          "metadata": {
            "tags": []
          },
          "execution_count": 62
        },
        {
          "output_type": "display_data",
          "data": {
            "image/png": "[encoded data removed]",
            "text/plain": [
              "<matplotlib.figure.Figure at 0x7f78fbf2a860>"
            ]
          },
          "metadata": {
            "tags": []
          }
        }
      ]
    },
    {
      "metadata": {
        "id": "V7dcSbRtCs3G",
        "colab_type": "code",
        "colab": {
          "base_uri": "https://localhost:8080/",
          "height": 421
        },
        "outputId": "3dc301d4-1b81-435d-debc-341409289526"
      },
      "cell_type": "code",
      "source": [
        "iot_s.resample('300S').mean().plot(kind='line', marker='o', ms=10, figsize=(12,6), title='Every 5 minutes change of temperature, humidity, and luminosity')"
      ],
      "execution_count": 63,
      "outputs": [
        {
          "output_type": "execute_result",
          "data": {
            "text/plain": [
              "<matplotlib.axes._subplots.AxesSubplot at 0x7f78fbf249b0>"
            ]
          },
          "metadata": {
            "tags": []
          },
          "execution_count": 63
        },
        {
          "output_type": "display_data",
          "data": {
            "image/png": "[encoded data removed]",
            "text/plain": [
              "<matplotlib.figure.Figure at 0x7f78fbefc9e8>"
            ]
          },
          "metadata": {
            "tags": []
          }
        }
      ]
    },
    {
      "metadata": {
        "id": "qsiiaBRpCxeE",
        "colab_type": "code",
        "colab": {
          "base_uri": "https://localhost:8080/",
          "height": 204
        },
        "outputId": "63ed8bd6-6b3f-4bf6-e0b3-4e32e20e8e15"
      },
      "cell_type": "code",
      "source": [
        "iot_s.resample('600S').mean() "
      ],
      "execution_count": 56,
      "outputs": [
        {
          "output_type": "execute_result",
          "data": {
            "text/html": [
              "<div>\n",
              "<style scoped>\n",
              "    .dataframe tbody tr th:only-of-type {\n",
              "        vertical-align: middle;\n",
              "    }\n",
              "\n",
              "    .dataframe tbody tr th {\n",
              "        vertical-align: top;\n",
              "    }\n",
              "\n",
              "    .dataframe thead th {\n",
              "        text-align: right;\n",
              "    }\n",
              "</style>\n",
              "<table border=\"1\" class=\"dataframe\">\n",
              "  <thead>\n",
              "    <tr style=\"text-align: right;\">\n",
              "      <th></th>\n",
              "      <th>temperature</th>\n",
              "      <th>humidity</th>\n",
              "      <th>luminosity</th>\n",
              "    </tr>\n",
              "    <tr>\n",
              "      <th>date</th>\n",
              "      <th></th>\n",
              "      <th></th>\n",
              "      <th></th>\n",
              "    </tr>\n",
              "  </thead>\n",
              "  <tbody>\n",
              "    <tr>\n",
              "      <th>2018-11-27 18:40:00</th>\n",
              "      <td>20.786047</td>\n",
              "      <td>28.619535</td>\n",
              "      <td>121.139535</td>\n",
              "    </tr>\n",
              "    <tr>\n",
              "      <th>2018-11-27 18:50:00</th>\n",
              "      <td>20.788593</td>\n",
              "      <td>28.916350</td>\n",
              "      <td>119.669202</td>\n",
              "    </tr>\n",
              "    <tr>\n",
              "      <th>2018-11-27 19:00:00</th>\n",
              "      <td>20.786312</td>\n",
              "      <td>29.052091</td>\n",
              "      <td>118.901141</td>\n",
              "    </tr>\n",
              "    <tr>\n",
              "      <th>2018-11-27 19:10:00</th>\n",
              "      <td>20.688803</td>\n",
              "      <td>28.876062</td>\n",
              "      <td>122.907336</td>\n",
              "    </tr>\n",
              "  </tbody>\n",
              "</table>\n",
              "</div>"
            ],
            "text/plain": [
              "                     temperature   humidity  luminosity\n",
              "date                                                   \n",
              "2018-11-27 18:40:00    20.786047  28.619535  121.139535\n",
              "2018-11-27 18:50:00    20.788593  28.916350  119.669202\n",
              "2018-11-27 19:00:00    20.786312  29.052091  118.901141\n",
              "2018-11-27 19:10:00    20.688803  28.876062  122.907336"
            ]
          },
          "metadata": {
            "tags": []
          },
          "execution_count": 56
        }
      ]
    },
    {
      "metadata": {
        "id": "c6OrnVhbC25s",
        "colab_type": "code",
        "colab": {
          "base_uri": "https://localhost:8080/",
          "height": 421
        },
        "outputId": "13d3bc2b-683a-4889-c6bb-dd37e18fe1f0"
      },
      "cell_type": "code",
      "source": [
        "iot_s.resample('600S').mean().plot(figsize=(12,6), title='Every 10 minutes change of temp, humi, and lumi', \n",
        "                                ylim=[0,150])"
      ],
      "execution_count": 64,
      "outputs": [
        {
          "output_type": "execute_result",
          "data": {
            "text/plain": [
              "<matplotlib.axes._subplots.AxesSubplot at 0x7f78fbe53438>"
            ]
          },
          "metadata": {
            "tags": []
          },
          "execution_count": 64
        },
        {
          "output_type": "display_data",
          "data": {
            "image/png": "[encoded data removed]",
            "text/plain": [
              "<matplotlib.figure.Figure at 0x7f78fbe65668>"
            ]
          },
          "metadata": {
            "tags": []
          }
        }
      ]
    },
    {
      "metadata": {
        "id": "TRTAdzJuC5jj",
        "colab_type": "code",
        "colab": {
          "base_uri": "https://localhost:8080/",
          "height": 421
        },
        "outputId": "e9051736-23b7-4b66-b573-e6047bd42ddf"
      },
      "cell_type": "code",
      "source": [
        "iot_s.resample('600S').mean().plot(kind='line', marker='o', ms=10, figsize=(12,6), title='Every 10 minutes change of temperature, humidity, and luminosity')"
      ],
      "execution_count": 65,
      "outputs": [
        {
          "output_type": "execute_result",
          "data": {
            "text/plain": [
              "<matplotlib.axes._subplots.AxesSubplot at 0x7f78fbe530b8>"
            ]
          },
          "metadata": {
            "tags": []
          },
          "execution_count": 65
        },
        {
          "output_type": "display_data",
          "data": {
            "image/png": "[encoded data removed]",
            "text/plain": [
              "<matplotlib.figure.Figure at 0x7f78fbdcdac8>"
            ]
          },
          "metadata": {
            "tags": []
          }
        }
      ]
    },
    {
      "metadata": {
        "id": "4bVbqRAEFdRZ",
        "colab_type": "code",
        "colab": {}
      },
      "cell_type": "code",
      "source": [
        ""
      ],
      "execution_count": 0,
      "outputs": []
    }
  ]
}